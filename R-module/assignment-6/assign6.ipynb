{
 "cells": [
  {
   "cell_type": "markdown",
   "id": "studied-export",
   "metadata": {},
   "source": [
    "# r objects"
   ]
  },
  {
   "cell_type": "markdown",
   "id": "burning-thermal",
   "metadata": {},
   "source": [
    "## list"
   ]
  },
  {
   "cell_type": "code",
   "execution_count": 3,
   "id": "increased-update",
   "metadata": {},
   "outputs": [
    {
     "name": "stdout",
     "output_type": "stream",
     "text": [
      "[[1]]\n",
      "[1] \"Red\"\n",
      "\n",
      "[[2]]\n",
      "[1] \"Green\"\n",
      "\n",
      "[[3]]\n",
      "[1] 21 32 11\n",
      "\n",
      "[[4]]\n",
      "[1] TRUE\n",
      "\n",
      "[[5]]\n",
      "[1] 51.23\n",
      "\n",
      "[[6]]\n",
      "[1] 119.1\n",
      "\n"
     ]
    }
   ],
   "source": [
    "#Creating a list \n",
    "list_1 <- list(\"Red\",\"Green\", c(21,32,11), TRUE, 51.23, 119.1)\n",
    "print(list_1)"
   ]
  },
  {
   "cell_type": "code",
   "execution_count": 4,
   "id": "endangered-douglas",
   "metadata": {},
   "outputs": [
    {
     "name": "stdout",
     "output_type": "stream",
     "text": [
      "$`1st Quarter`\n",
      "[1] \"Jan\" \"Feb\" \"Mar\"\n",
      "\n",
      "$A_Matrix\n",
      "     [,1]\n",
      "[1,]    3\n",
      "[2,]    9\n",
      "[3,]    5\n",
      "[4,]    1\n",
      "[5,]   -2\n",
      "[6,]    8\n",
      "\n",
      "$`A Inner list`\n",
      "[1] 2\n",
      "\n",
      "$<NA>\n",
      "$<NA>[[1]]\n",
      "[1] \"green\"\n",
      "\n",
      "$<NA>[[2]]\n",
      "[1] 12.3\n",
      "\n",
      "\n"
     ]
    }
   ],
   "source": [
    "#NAMING LIST ELEMENTS\n",
    "list_2 <- list(c(\"Jan\",\"Feb\",\"Mar\"), matrix(c(3,9,5,1,-2,8)),nrow = 2,list(\"green\",12.3))\n",
    "#Gives names to elements \n",
    "names(list_2) <- c(\"1st Quarter\", \"A_Matrix\",\"A Inner list\")\n",
    "#print list\n",
    "print(list_2)"
   ]
  },
  {
   "cell_type": "code",
   "execution_count": 5,
   "id": "destroyed-couple",
   "metadata": {},
   "outputs": [
    {
     "name": "stdout",
     "output_type": "stream",
     "text": [
      "$`1st Quarter`\n",
      "[1] \"Jan\" \"Feb\" \"Mar\"\n",
      "\n",
      "$`A Inner list`\n",
      "[1] 2\n",
      "\n",
      "     [,1]\n",
      "[1,]    3\n",
      "[2,]    9\n",
      "[3,]    5\n",
      "[4,]    1\n",
      "[5,]   -2\n",
      "[6,]    8\n"
     ]
    }
   ],
   "source": [
    "#ACCESSING LIST ELLEMENTS\n",
    "#Accessing first element of the list\n",
    "print(list_2[1])\n",
    "#Accessing third element of the list which is also a list\n",
    "print(list_2[3])\n",
    "#Accessing list element using name of element\n",
    "print(list_2$A_Matrix)"
   ]
  },
  {
   "cell_type": "code",
   "execution_count": 6,
   "id": "victorian-nashville",
   "metadata": {},
   "outputs": [
    {
     "name": "stdout",
     "output_type": "stream",
     "text": [
      "$<NA>\n",
      "[1] \"New Element\"\n",
      "\n",
      "$<NA>\n",
      "NULL\n",
      "\n",
      "$`A Inner list`\n",
      "[1] \"Updated Element\"\n",
      "\n"
     ]
    }
   ],
   "source": [
    "# Manipulating List elements\n",
    "#ADD element at end of list\n",
    "list_2[4] <- \"New Element\"\n",
    "print(list_2[4])\n",
    "\n",
    "#Remove the last element\n",
    "list_2[4] <- NULL\n",
    "\n",
    "#print the 4th element\n",
    "print(list_2[4])\n",
    "\n",
    "#Update the 3rd Element\n",
    "list_2[3] <- \"Updated Element\"\n",
    "print(list_2[3])"
   ]
  },
  {
   "cell_type": "code",
   "execution_count": 7,
   "id": "toxic-operator",
   "metadata": {},
   "outputs": [
    {
     "name": "stdout",
     "output_type": "stream",
     "text": [
      "[[1]]\n",
      "[1] 1\n",
      "\n",
      "[[2]]\n",
      "[1] 2\n",
      "\n",
      "[[3]]\n",
      "[1] 3\n",
      "\n",
      "[[4]]\n",
      "[1] \"Sun\"\n",
      "\n",
      "[[5]]\n",
      "[1] \"Mon\"\n",
      "\n",
      "[[6]]\n",
      "[1] \"Tue\"\n",
      "\n"
     ]
    }
   ],
   "source": [
    "#MERGING LIST\n",
    "\n",
    "list1 <- list(1,2,3)\n",
    "list2 <- list(\"Sun\",\"Mon\",\"Tue\")\n",
    "\n",
    "#merging both lists\n",
    "merged.list <- c(list1,list2)\n",
    "#print merged list\n",
    "print(merged.list)"
   ]
  },
  {
   "cell_type": "code",
   "execution_count": 8,
   "id": "incorrect-viewer",
   "metadata": {},
   "outputs": [
    {
     "name": "stdout",
     "output_type": "stream",
     "text": [
      "[[1]]\n",
      "[1] 1 2 3 4 5\n",
      "\n",
      "[[1]]\n",
      "[1] 10 11 12 13 14\n",
      "\n",
      "[1] 1 2 3 4 5\n",
      "[1] 10 11 12 13 14\n",
      "[1] 11 13 15 17 19\n"
     ]
    }
   ],
   "source": [
    "#CONVERT LIST TO VECTOR\n",
    "\n",
    "#Create a list\n",
    "list1 <- list(1:5)\n",
    "print(list1)\n",
    "\n",
    "list2 <- list(10:14)\n",
    "print(list2)\n",
    "\n",
    "#convert List to vectors\n",
    "v1 <- unlist(list1)\n",
    "v2 <- unlist(list2)\n",
    "print(v1)\n",
    "print(v2)\n",
    "\n",
    "#now Add the vectors\n",
    "result <- v1+v2\n",
    "print(result)"
   ]
  },
  {
   "cell_type": "code",
   "execution_count": 9,
   "id": "reduced-referral",
   "metadata": {},
   "outputs": [
    {
     "name": "stdout",
     "output_type": "stream",
     "text": [
      "     [,1] [,2] [,3]\n",
      "[1,]    3    4    5\n",
      "[2,]    6    7    8\n",
      "[3,]    9   10   11\n",
      "[4,]   12   13   14\n",
      "     [,1] [,2] [,3]\n",
      "[1,]    3    7   11\n",
      "[2,]    4    8   12\n",
      "[3,]    5    9   13\n",
      "[4,]    6   10   14\n",
      "     col1 col2 col3\n",
      "row1    3    4    5\n",
      "row2    6    7    8\n",
      "row3    9   10   11\n",
      "row4   12   13   14\n"
     ]
    }
   ],
   "source": [
    "#MATRIX\n",
    "#Elements arranged by  row\n",
    "M <- matrix(c(3:14),nrow=4,byrow=TRUE)\n",
    "print(M)\n",
    "#Element arranged by column\n",
    "N <- matrix(c(3:14),nrow=4,byrow=FALSE)\n",
    "print(N)\n",
    "#Define the column and row names\n",
    "rownames=c(\"row1\",\"row2\",\"row3\",\"row4\")\n",
    "colnames=c(\"col1\",\"col2\",\"col3\")\n",
    "\n",
    "p <- matrix(c(3:14),nrow=4,byrow=TRUE,dimnames=list(rownames,colnames))\n",
    "print(p)"
   ]
  },
  {
   "cell_type": "code",
   "execution_count": 11,
   "id": "equipped-regulation",
   "metadata": {},
   "outputs": [
    {
     "name": "stdout",
     "output_type": "stream",
     "text": [
      "[1] 5\n",
      "[1] 13\n",
      "col1 col2 col3 \n",
      "   6    7    8 \n"
     ]
    }
   ],
   "source": [
    "## Accessing elements of matrix\n",
    "rownames=c(\"row1\",\"row2\",\"row3\",\"row4\")\n",
    "colnames=c(\"col1\",\"col2\",\"col3\")\n",
    "p <- matrix(c(3:14),nrow=4,byrow=TRUE,dimnames=list(rownames,colnames))\n",
    "#Accessing elements at 3rd column and 1st row\n",
    "print(p[1,3])\n",
    "#Accessing elements at 2rd column and 4st row\n",
    "print(p[4,2])\n",
    "#Accessing only 2nd row\n",
    "print(p[2,])"
   ]
  },
  {
   "cell_type": "code",
   "execution_count": 12,
   "id": "acceptable-brass",
   "metadata": {},
   "outputs": [
    {
     "name": "stdout",
     "output_type": "stream",
     "text": [
      "     [,1] [,2] [,3]\n",
      "[1,]    3   -1    2\n",
      "[2,]    9    4    6\n",
      "     [,1] [,2] [,3]\n",
      "[1,]    5    0    3\n",
      "[2,]    2    9    4\n",
      "Result of addition \n",
      "     [,1] [,2] [,3]\n",
      "[1,]    8   -1    5\n",
      "[2,]   11   13   10\n",
      "Result of subtraction \n",
      "     [,1] [,2] [,3]\n",
      "[1,]   -2   -1   -1\n",
      "[2,]    7   -5    2\n"
     ]
    }
   ],
   "source": [
    "#MATRIX ADDITION AND SUBTRACTION\n",
    "matrix1 <- matrix(c(3,9,-1,4,2,6),nrow=2)\n",
    "print(matrix1)\n",
    "matrix2 <- matrix(c(5,2,0,9,3,4),nrow=2)\n",
    "print(matrix2)\n",
    "#ADD MATRIX\n",
    "result <- matrix1 + matrix2\n",
    "cat(\"Result of addition\",\"\\n\")\n",
    "print(result)\n",
    "#subtraction\n",
    "result <- matrix1 - matrix2\n",
    "cat(\"Result of subtraction\",\"\\n\")\n",
    "print(result)"
   ]
  },
  {
   "cell_type": "code",
   "execution_count": 13,
   "id": "younger-electron",
   "metadata": {},
   "outputs": [
    {
     "name": "stdout",
     "output_type": "stream",
     "text": [
      "     [,1] [,2] [,3]\n",
      "[1,]    3   -1    2\n",
      "[2,]    9    4    6\n",
      "     [,1] [,2] [,3]\n",
      "[1,]    5    0    3\n",
      "[2,]    2    9    4\n",
      "Result of multiplication \n",
      "     [,1] [,2] [,3]\n",
      "[1,]   15    0    6\n",
      "[2,]   18   36   24\n",
      "Result of division \n",
      "     [,1]      [,2]      [,3]\n",
      "[1,]  0.6      -Inf 0.6666667\n",
      "[2,]  4.5 0.4444444 1.5000000\n"
     ]
    }
   ],
   "source": [
    "#MATRIX ADDITION AND SUBTRACTION\n",
    "matrix1 <- matrix(c(3,9,-1,4,2,6),nrow=2)\n",
    "print(matrix1)\n",
    "matrix2 <- matrix(c(5,2,0,9,3,4),nrow=2)\n",
    "print(matrix2)\n",
    "#ADD MATRIX\n",
    "result <- matrix1 * matrix2\n",
    "cat(\"Result of multiplication\",\"\\n\")\n",
    "print(result)\n",
    "#subtraction\n",
    "result <- matrix1 / matrix2\n",
    "cat(\"Result of division\",\"\\n\")\n",
    "print(result)"
   ]
  },
  {
   "cell_type": "code",
   "execution_count": 16,
   "id": "pediatric-basic",
   "metadata": {},
   "outputs": [
    {
     "name": "stdout",
     "output_type": "stream",
     "text": [
      ", , 1\n",
      "\n",
      "     [,1] [,2] [,3]\n",
      "[1,]    5   10   13\n",
      "[2,]    9   11   14\n",
      "[3,]    3   12   15\n",
      "\n",
      ", , 2\n",
      "\n",
      "     [,1] [,2] [,3]\n",
      "[1,]   16    3   12\n",
      "[2,]    5   10   13\n",
      "[3,]    9   11   14\n",
      "\n"
     ]
    }
   ],
   "source": [
    "#Arrays\n",
    "#creae 2 vectors\n",
    "vector1 <- c(5,9,3)\n",
    "vector2 <- c(10:16)\n",
    "#takes vectors as input to array\n",
    "result <- array(c(vector1,vector2),dim = c(3,3,2))\n",
    "print(result)"
   ]
  },
  {
   "cell_type": "code",
   "execution_count": 18,
   "id": "alternate-world",
   "metadata": {},
   "outputs": [
    {
     "name": "stdout",
     "output_type": "stream",
     "text": [
      ", , Matrix1\n",
      "\n",
      "     COL1 COL2 COL3\n",
      "ROW1    5   10   13\n",
      "ROW2    9   11   14\n",
      "ROW3    3   12   15\n",
      "\n",
      ", , Matrix2\n",
      "\n",
      "     COL1 COL2 COL3\n",
      "ROW1   16    3   12\n",
      "ROW2    5   10   13\n",
      "ROW3    9   11   14\n",
      "\n"
     ]
    }
   ],
   "source": [
    "#Naming column and rows\n",
    "vector1 <- c(5,9,3)\n",
    "vector2 <- c(10:16)\n",
    "column.names <- c(\"COL1\",\"COL2\",\"COL3\")\n",
    "row.names <- c(\"ROW1\",\"ROW2\",\"ROW3\")\n",
    "matrix.names <- c(\"Matrix1\",\"Matrix2\")\n",
    "#take these vectors as input to array\n",
    "result <- array(c(vector1,vector2),dim = c(3,3,2),dimnames=list(row.names,column.names,\n",
    "                                                                matrix.names))\n",
    "print(result)"
   ]
  },
  {
   "cell_type": "code",
   "execution_count": 19,
   "id": "blond-minority",
   "metadata": {},
   "outputs": [
    {
     "name": "stdout",
     "output_type": "stream",
     "text": [
      "COL1 COL2 COL3 \n",
      "   9   11   14 \n",
      "[1] 13\n",
      "     COL1 COL2 COL3\n",
      "ROW1   16    3   12\n",
      "ROW2    5   10   13\n",
      "ROW3    9   11   14\n"
     ]
    }
   ],
   "source": [
    "#Accessing Array elements\n",
    "#print third row of second matrix of array\n",
    "print(result[3,,2])\n",
    "#print element in 1st row and 3rd column of 1st matrix\n",
    "print(result[1,3,1])\n",
    "#print 2nd matrix\n",
    "print(result[,,2])"
   ]
  },
  {
   "cell_type": "code",
   "execution_count": 20,
   "id": "recognized-paradise",
   "metadata": {},
   "outputs": [
    {
     "name": "stdout",
     "output_type": "stream",
     "text": [
      "     [,1] [,2] [,3]\n",
      "[1,]   18   12   18\n",
      "[2,]   11   11   13\n",
      "[3,]   18   11   25\n"
     ]
    }
   ],
   "source": [
    "#Manipulating Array elements\n",
    "vector1 <- c(5,9,3)\n",
    "vector2 <- c(10:16)\n",
    "#take these vector as input to array\n",
    "array1 <- array(c(vector1,vector2),dim = c(3,3,2))\n",
    "\n",
    "vector3 <- c(9,1,0)\n",
    "vector4 <- c(6,0,11,3,14,1,2,6,9)\n",
    "#take these vector as input to array\n",
    "array2 <- array(c(vector3,vector4),dim = c(3,3,2))\n",
    "#create matrix from these array\n",
    "matrix1 <- array1[,,2]\n",
    "matrix2 <- array2[,,2]\n",
    "#add the arrays\n",
    "result <- matrix1+matrix2\n",
    "print(result)"
   ]
  },
  {
   "cell_type": "code",
   "execution_count": 21,
   "id": "acknowledged-generation",
   "metadata": {},
   "outputs": [
    {
     "name": "stdout",
     "output_type": "stream",
     "text": [
      "[1] 59 62 64\n"
     ]
    }
   ],
   "source": [
    "#using .apply\n",
    "vector1 <- c(5,9,3)\n",
    "vector2 <- c(10:16)\n",
    "#take these vector as input to array\n",
    "array1 <- array(c(vector1,vector2),dim = c(3,3,2))\n",
    "#use apply to calculate sum of rows across all matrices\n",
    "result <- apply(array1,c(1), sum)\n",
    "print(result)"
   ]
  },
  {
   "cell_type": "code",
   "execution_count": 22,
   "id": "molecular-eating",
   "metadata": {},
   "outputs": [
    {
     "name": "stdout",
     "output_type": "stream",
     "text": [
      " [1] \"EAST\"  \"WEST\"  \"EAST\"  \"NORTH\" \"EAST\"  \"WEST\"  \"EAST\"  \"SOUTH\" \"WEST\" \n",
      "[10] \"WEST\" \n",
      "[1] FALSE\n",
      " [1] EAST  WEST  EAST  NORTH EAST  WEST  EAST  SOUTH WEST  WEST \n",
      "Levels: EAST NORTH SOUTH WEST\n",
      "[1] TRUE\n"
     ]
    }
   ],
   "source": [
    "#FACTORS\n",
    "\n",
    "data <- c(\"EAST\",\"WEST\",\"EAST\",\"NORTH\",\"EAST\",\"WEST\",\"EAST\",\"SOUTH\",\"WEST\",\"WEST\")\n",
    "\n",
    "print(data)\n",
    "print(is.factor(data))\n",
    "\n",
    "#APPLY FACTOR FUNCTION\n",
    "factor_data <- factor(data)\n",
    "\n",
    "print(factor_data)\n",
    "print(is.factor(factor_data))"
   ]
  },
  {
   "cell_type": "code",
   "execution_count": 23,
   "id": "protective-prescription",
   "metadata": {},
   "outputs": [
    {
     "name": "stdout",
     "output_type": "stream",
     "text": [
      "  height weight gender\n",
      "1    132     48   male\n",
      "2    151     49   male\n",
      "3    162     66 female\n",
      "4    138     53 female\n",
      "5    122     67   male\n",
      "6    145     52 female\n",
      "7    122     40   male\n",
      "[1] TRUE\n",
      "[1] male   male   female female male   female male  \n",
      "Levels: female male\n"
     ]
    }
   ],
   "source": [
    "#FACTOR IN DATA FRAME\n",
    "\n",
    "height <- c(132,151,162,138,122,145,122)\n",
    "weight <- c(48,49,66,53,67,52,40)\n",
    "gender <- c(\"male\",\"male\",\"female\",\"female\",\"male\",\"female\",\"male\")\n",
    "#Create the data frame\n",
    "input_data <- data.frame(height,weight,gender)\n",
    "print(input_data)\n",
    "\n",
    "#Test if gender column is a factor\n",
    "print(is.factor(input_data$gender))\n",
    "#print gender column so see the levels\n",
    "print(input_data$gender)"
   ]
  },
  {
   "cell_type": "code",
   "execution_count": 25,
   "id": "systematic-pride",
   "metadata": {},
   "outputs": [
    {
     "name": "stdout",
     "output_type": "stream",
     "text": [
      " [1] EAST  WEST  EAST  NORTH EAST  WEST  EAST  SOUTH WEST  WEST \n",
      "Levels: EAST NORTH SOUTH WEST\n",
      " [1] EAST  WEST  EAST  NORTH EAST  WEST  EAST  <NA>  WEST  WEST \n",
      "Levels: EAST WEST NORTH\n"
     ]
    }
   ],
   "source": [
    "#change order of levels\n",
    "data <- c(\"EAST\",\"WEST\",\"EAST\",\"NORTH\",\"EAST\",\"WEST\",\"EAST\",\"SOUTH\",\"WEST\",\"WEST\")\n",
    "#create factor\n",
    "factor_data <- factor(data)\n",
    "print(factor_data)\n",
    "#apply factor function with required order of level\n",
    "new_order_data <- factor(factor_data,levels = c(\"EAST\",\"WEST\",\"NORTH\"))\n",
    "print(new_order_data)"
   ]
  },
  {
   "cell_type": "code",
   "execution_count": 26,
   "id": "positive-accounting",
   "metadata": {},
   "outputs": [
    {
     "name": "stdout",
     "output_type": "stream",
     "text": [
      " [1] Tampa   Tampa   Tampa   Tampa   Seattle Seattle Seattle Seattle Boston \n",
      "[10] Boston  Boston  Boston \n",
      "Levels: Tampa Seattle Boston\n"
     ]
    }
   ],
   "source": [
    "#generating factor levels\n",
    "v <- gl(3,4,labels=c(\"Tampa\", \"Seattle\", \"Boston\"))\n",
    "print(v)"
   ]
  },
  {
   "cell_type": "code",
   "execution_count": 29,
   "id": "offensive-credit",
   "metadata": {},
   "outputs": [
    {
     "name": "stdout",
     "output_type": "stream",
     "text": [
      "  emp_id emp_name salary start_date\n",
      "1      1     Rick 112.30 2012-01-01\n",
      "2      2      DAN 222.30 2013-09-23\n",
      "3      3     ROCK 423.50 2014-11-15\n",
      "4      4      BOB 567.65 2014-05-11\n",
      "5      5     ROSS 876.00 2015-03-27\n"
     ]
    }
   ],
   "source": [
    "# DATAFRAMES\n",
    "#create dataframe\n",
    "\n",
    "emp.data <- data.frame(\n",
    "    emp_id = c(1:5),\n",
    "    emp_name = c(\"Rick\",\"DAN\",\"ROCK\",\"BOB\",\"ROSS\"),\n",
    "    salary = c(112.3,222.3,423.5,567.65,876),\n",
    "    start_date = as.Date(c(\"2012-01-01\",\"2013-09-23\",\"2014-11-15\",\"2014-05-11\",\n",
    "                           \"2015-03-27\")),\n",
    "    stringsAsFactors = FALSE\n",
    ")\n",
    "print(emp.data)"
   ]
  },
  {
   "cell_type": "code",
   "execution_count": 31,
   "id": "minute-particular",
   "metadata": {},
   "outputs": [
    {
     "name": "stdout",
     "output_type": "stream",
     "text": [
      "'data.frame':\t5 obs. of  4 variables:\n",
      " $ emp_id    : int  1 2 3 4 5\n",
      " $ emp_name  : chr  \"Rick\" \"DAN\" \"ROCK\" \"BOB\" ...\n",
      " $ salary    : num  112 222 424 568 876\n",
      " $ start_date: Date, format: \"2012-01-01\" \"2013-09-23\" ...\n"
     ]
    }
   ],
   "source": [
    "#GET STRUCTURE OF DATAFRAME\n",
    "\n",
    "str(emp.data)"
   ]
  },
  {
   "cell_type": "code",
   "execution_count": 32,
   "id": "outer-borough",
   "metadata": {},
   "outputs": [
    {
     "name": "stdout",
     "output_type": "stream",
     "text": [
      "     emp_id    emp_name             salary        start_date        \n",
      " Min.   :1   Length:5           Min.   :112.3   Min.   :2012-01-01  \n",
      " 1st Qu.:2   Class :character   1st Qu.:222.3   1st Qu.:2013-09-23  \n",
      " Median :3   Mode  :character   Median :423.5   Median :2014-05-11  \n",
      " Mean   :3                      Mean   :440.4   Mean   :2014-01-14  \n",
      " 3rd Qu.:4                      3rd Qu.:567.6   3rd Qu.:2014-11-15  \n",
      " Max.   :5                      Max.   :876.0   Max.   :2015-03-27  \n"
     ]
    }
   ],
   "source": [
    "#Get statistical summary of dataframe\n",
    "print(summary(emp.data))"
   ]
  },
  {
   "cell_type": "code",
   "execution_count": 33,
   "id": "specialized-endorsement",
   "metadata": {},
   "outputs": [
    {
     "name": "stdout",
     "output_type": "stream",
     "text": [
      "  emp.data.emp_name emp.data.salary\n",
      "1              Rick          112.30\n",
      "2               DAN          222.30\n",
      "3              ROCK          423.50\n",
      "4               BOB          567.65\n",
      "5              ROSS          876.00\n"
     ]
    }
   ],
   "source": [
    "# Extract column Data from dataframe\n",
    "\n",
    "emp.data <- data.frame(\n",
    "    emp_id = c(1:5),\n",
    "    emp_name = c(\"Rick\",\"DAN\",\"ROCK\",\"BOB\",\"ROSS\"),\n",
    "    salary = c(112.3,222.3,423.5,567.65,876),\n",
    "    start_date = as.Date(c(\"2012-01-01\",\"2013-09-23\",\"2014-11-15\",\"2014-05-11\",\n",
    "                           \"2015-03-27\")),\n",
    "    stringsAsFactors = FALSE\n",
    ")\n",
    "\n",
    "#Extract specific column\n",
    "result <- data.frame(emp.data$emp_name,emp.data$salary)\n",
    "print(result)"
   ]
  },
  {
   "cell_type": "code",
   "execution_count": 34,
   "id": "handled-handy",
   "metadata": {},
   "outputs": [
    {
     "name": "stdout",
     "output_type": "stream",
     "text": [
      "  emp_id emp_name salary start_date\n",
      "1      1     Rick  112.3 2012-01-01\n",
      "2      2      DAN  222.3 2013-09-23\n"
     ]
    }
   ],
   "source": [
    "#Extract rows from dataframe\n",
    "#Extract first 2 rows \n",
    "result <- emp.data[1:2,]\n",
    "print(result)"
   ]
  },
  {
   "cell_type": "code",
   "execution_count": 35,
   "id": "entire-strand",
   "metadata": {},
   "outputs": [
    {
     "name": "stdout",
     "output_type": "stream",
     "text": [
      "  emp_name start_date\n",
      "3     ROCK 2014-11-15\n",
      "5     ROSS 2015-03-27\n"
     ]
    }
   ],
   "source": [
    "#Extract rows and columns from dataframe via indexing\n",
    "#Extract 3rd and 5th row wit 2nd and 4th colum\n",
    "result <- emp.data[c(3,5),c(2,4)]\n",
    "print(result)"
   ]
  },
  {
   "cell_type": "code",
   "execution_count": 36,
   "id": "linear-original",
   "metadata": {},
   "outputs": [
    {
     "name": "stdout",
     "output_type": "stream",
     "text": [
      "  emp_id emp_name salary start_date       dept\n",
      "1      1     Rick 112.30 2012-01-01         IT\n",
      "2      2      DAN 222.30 2013-09-23 OPERATIONS\n",
      "3      3     ROCK 423.50 2014-11-15         IT\n",
      "4      4      BOB 567.65 2014-05-11         HR\n",
      "5      5     ROSS 876.00 2015-03-27    FINANCE\n"
     ]
    }
   ],
   "source": [
    "#Expanding Dataframe by adding Column\n",
    "emp.data <- data.frame(\n",
    "    emp_id = c(1:5),\n",
    "    emp_name = c(\"Rick\",\"DAN\",\"ROCK\",\"BOB\",\"ROSS\"),\n",
    "    salary = c(112.3,222.3,423.5,567.65,876),\n",
    "    start_date = as.Date(c(\"2012-01-01\",\"2013-09-23\",\"2014-11-15\",\"2014-05-11\",\n",
    "                           \"2015-03-27\")),\n",
    "    stringsAsFactors = FALSE\n",
    ")\n",
    "# ADD the Dept column\n",
    "emp.data$dept<- c(\"IT\",\"OPERATIONS\",\"IT\",\"HR\",\"FINANCE\")\n",
    "print(emp.data)"
   ]
  },
  {
   "cell_type": "code",
   "execution_count": 40,
   "id": "downtown-bridges",
   "metadata": {},
   "outputs": [
    {
     "name": "stdout",
     "output_type": "stream",
     "text": [
      "  emp_id emp_name salary start_date       dept\n",
      "1      1     Rick 112.30 2012-01-01         IT\n",
      "2      2      DAN 222.30 2013-09-23 OPERATIONS\n",
      "3      3     ROCK 423.50 2014-11-15         IT\n",
      "4      4      BOB 567.65 2014-05-11         HR\n",
      "5      5     ROSS 876.00 2015-03-27    FINANCE\n",
      "6      6    Rasmo 112.30 2013-05-21         IT\n",
      "7      7   pranab 222.30 2013-07-30 Operations\n",
      "8      8   Tushar 423.50 2014-06-17    Finance\n"
     ]
    }
   ],
   "source": [
    "#ADDING ROWS IN A DATAFRAME\n",
    "emp.data <- data.frame(\n",
    "    emp_id = c(1:5),\n",
    "    emp_name = c(\"Rick\",\"DAN\",\"ROCK\",\"BOB\",\"ROSS\"),\n",
    "    salary = c(112.3,222.3,423.5,567.65,876),\n",
    "    start_date = as.Date(c(\"2012-01-01\",\"2013-09-23\",\"2014-11-15\",\"2014-05-11\",\n",
    "                           \"2015-03-27\")),\n",
    "    dept= c(\"IT\",\"OPERATIONS\",\"IT\",\"HR\",\"FINANCE\"),\n",
    "    stringsAsFactors = FALSE\n",
    ")\n",
    "#create another dataframe\n",
    "emp.newdata <- data.frame(\n",
    "    emp_id = c(6:8),\n",
    "    emp_name = c(\"Rasmo\",\"pranab\",\"Tushar\"),\n",
    "    salary = c(112.3,222.3,423.5),\n",
    "    start_date = as.Date(c(\"2013-05-21\",\"2013-07-30\",\"2014-06-17\")),\n",
    "    dept = c(\"IT\",\"Operations\",\"Finance\"),\n",
    "    stringsAsFactors = FALSE\n",
    ")\n",
    "#BIND THE TWO DATAFRAMES USING RBIND()\n",
    "emp.finaldata <- rbind(emp.data,emp.newdata)\n",
    "print(emp.finaldata)"
   ]
  },
  {
   "cell_type": "code",
   "execution_count": null,
   "id": "received-consent",
   "metadata": {},
   "outputs": [],
   "source": [
    "#MEAN\n",
    "x <- c(1:50)\n",
    "\n",
    "results.mean <- mean(x)\n",
    "print(result.mean)"
   ]
  }
 ],
 "metadata": {
  "kernelspec": {
   "display_name": "R",
   "language": "R",
   "name": "ir"
  },
  "language_info": {
   "codemirror_mode": "r",
   "file_extension": ".r",
   "mimetype": "text/x-r-source",
   "name": "R",
   "pygments_lexer": "r",
   "version": "3.6.1"
  }
 },
 "nbformat": 4,
 "nbformat_minor": 5
}
